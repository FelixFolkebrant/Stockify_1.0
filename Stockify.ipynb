{
 "cells": [
  {
   "cell_type": "code",
   "execution_count": 56,
   "metadata": {},
   "outputs": [],
   "source": [
    "import yfinance as yf\n",
    "import datetime\n",
    "import pandas as pd\n",
    "import plotly.graph_objects as go\n",
    "from IPython.display import clear_output\n",
    "import csv\n",
    "import sys\n",
    "import keyboard\n",
    "import random\n",
    "#!/usr/bin/env python\n",
    "# -*- coding: utf-8 -*-"
   ]
  },
  {
   "cell_type": "code",
   "execution_count": 57,
   "metadata": {},
   "outputs": [],
   "source": [
    "SHOW_CHART = True"
   ]
  },
  {
   "cell_type": "code",
   "execution_count": 58,
   "metadata": {},
   "outputs": [],
   "source": [
    "NOW = datetime.datetime.timestamp(datetime.datetime.now())\n",
    "NOW = int(NOW)\n",
    "\n",
    "def daysback(daysback):\n",
    "    then = datetime.datetime.now() - datetime.timedelta(days=daysback)\n",
    "    return then"
   ]
  },
  {
   "cell_type": "code",
   "execution_count": 59,
   "metadata": {},
   "outputs": [],
   "source": [
    "class Stock:\n",
    "    def __init__(self, ticker, daysback=360, interval=\"1d\"):        #Intervals: 1m,2m,5m,15m,30m,60m,90m,1h,1d,5d,1wk,1mo,3mo\n",
    "        self.ticker = yf.Ticker(ticker)\n",
    "        self.daysback = daysback\n",
    "        self.interval = interval\n",
    "    def price(self):\n",
    "        info = self.ticker.history(interval=self.interval, start=daysback(self.daysback))\n",
    "        return info\n",
    "    def industry(self):\n",
    "        industry = self.ticker.info['sector']\n",
    "        return industry\n",
    "    def data(self):\n",
    "        info = []\n",
    "        (info := []).append(self.ticker.info)\n",
    "        info.append(self.ticker.balance_sheet)\n",
    "        return info\n"
   ]
  },
  {
   "cell_type": "code",
   "execution_count": 60,
   "metadata": {},
   "outputs": [],
   "source": [
    "def drawchart(time,price):\n",
    "    layout = go.Layout(hovermode='x unified',yaxis=dict(range=[(int(price.min()*0.9)),(int(price.max()*1.1))]))\n",
    "    fig = go.Figure(layout=layout)\n",
    "    fig.add_trace(go.Scatter(x=time, y=price, mode=\"lines\",fill='tonexty', marker_color='rgb(20,199,139)',))        #fill='tonexty' for filled, otherwise fill=\"none\"\n",
    "    fig.update_layout(dict({\"plot_bgcolor\": \"rgba(255, 255, 255, 1)\",\"paper_bgcolor\": \"rgba(255, 255, 255, 0.95)\",}))\n",
    "    fig.update_layout(hovermode = \"x unified\",autosize=True,width=1200,height=600,title=CurrentStock, font=dict(size=14,color=\"black\"), hoverlabel = dict(bgcolor = \"white\",font_size = 16,))\n",
    "    fig.show()\n",
    "\n",
    "def getPerformance():\n",
    "    (prices:=[]).append(int(((stock[\"Close\"][len(stock[\"Close\"])-1]-stock[\"Close\"][len(stock[\"Close\"])-5])/ stock[\"Close\"][len(stock[\"Close\"])-5])*100))\n",
    "    prices.append(int(((stock[\"Close\"][len(stock[\"Close\"])-1]-stock[\"Close\"][len(stock[\"Close\"])-20])/ stock[\"Close\"][len(stock[\"Close\"])-20])*100))\n",
    "    prices.append(int(((stock[\"Close\"][len(stock[\"Close\"])-1]-stock[\"Close\"][len(stock[\"Close\"])-60])/ stock[\"Close\"][len(stock[\"Close\"])-60])*100))\n",
    "    prices.append(int(((stock[\"Close\"][len(stock[\"Close\"])-1]-stock[\"Close\"][0])/ stock[\"Close\"][len(stock[\"Close\"])-1])*100))\n",
    "    return prices\n",
    "\n",
    "\n",
    "def getPerformance2():\n",
    "    res = []\n",
    "    (prices:=[]).append(int(((stock[\"Close\"][len(stock[\"Close\"])-1]-stock[\"Close\"][len(stock[\"Close\"])-5])/ stock[\"Close\"][len(stock[\"Close\"])-5])*100))\n",
    "    prices.append(int(((stock[\"Close\"][len(stock[\"Close\"])-1]-stock[\"Close\"][len(stock[\"Close\"])-20])/ stock[\"Close\"][len(stock[\"Close\"])-20])*100))\n",
    "    prices.append(int(((stock[\"Close\"][len(stock[\"Close\"])-1]-stock[\"Close\"][len(stock[\"Close\"])-60])/ stock[\"Close\"][len(stock[\"Close\"])-60])*100))\n",
    "    prices.append(int(((stock[\"Close\"][len(stock[\"Close\"])-1]-stock[\"Close\"][0])/ stock[\"Close\"][len(stock[\"Close\"])-1])*100))\n",
    "    for x in prices:\n",
    "        if x < 0:\n",
    "            res.append(f\"\\x1b[41m\\\"{x}%\\\"\\x1b[0m\")\n",
    "        else:\n",
    "            res.append(f\"\\x1b[42m\\\"{x}%\\\"\\x1b[0m\")\n",
    "    return res"
   ]
  },
  {
   "cell_type": "code",
   "execution_count": 62,
   "metadata": {},
   "outputs": [
    {
     "name": "stdout",
     "output_type": "stream",
     "text": [
      "Quit program\n"
     ]
    }
   ],
   "source": [
    "with open(\"potential_stocks.csv\",newline=\"\") as f:\n",
    "    cw = csv.reader(f)\n",
    "    potential_stocks = list(cw)\n",
    "ticker = \"SINCH\"\n",
    "for ticker in potential_stocks:\n",
    "    ticker = random.choice(potential_stocks)\n",
    "    CurrentStock = ticker[0]+\".ST\"\n",
    "    n=1\n",
    "    try:\n",
    "        stock, data = Stock(CurrentStock).price(),Stock(CurrentStock).data()\n",
    "        time = stock.index           \n",
    "        price = stock[\"Close\"].rolling(n).sum()/n     #Price with smoothing\n",
    "        drawchart(time,price)\n",
    "        perf = getPerformance2()\n",
    "        print(f'{CurrentStock}\\n{\"-\"*100}\\nSector : {data[0][\"sector\"]}\\nSummary : {data[0][\"longBusinessSummary\"]}\\n{\"-\"*100}\\n1 week : {perf[0]}     1 month : {perf[1]}      3 month : {perf[2]}     1 year : {perf[3]}')\n",
    "    except:\n",
    "        print(f\"No data found on {ticker}\")\n",
    "    if keyboard.read_key() == \"q\":\n",
    "        clear_output(wait=True)\n",
    "        print(\"Quit program\")\n",
    "        break\n",
    "    elif keyboard.read_key() == \"s\":\n",
    "        clear_output(wait=True)\n",
    "        print(ticker[0])\n",
    "        with open('watchlist.csv','a', newline=\"\") as f:\n",
    "            f = csv.writer(f)\n",
    "            f.writerow([ticker[0]])\n",
    "    elif keyboard.read_key() == 'SPACEBAR':\n",
    "        clear_output(wait=True)\n",
    "        pass\n",
    "    clear_output(wait=True)"
   ]
  }
 ],
 "metadata": {
  "interpreter": {
   "hash": "cca9709ade13d1845170bf721b4f5aa5be8f7155f4e404d395c21441a7fc75f5"
  },
  "kernelspec": {
   "display_name": "Python 3.9.6 64-bit",
   "language": "python",
   "name": "python3"
  },
  "language_info": {
   "codemirror_mode": {
    "name": "ipython",
    "version": 3
   },
   "file_extension": ".py",
   "mimetype": "text/x-python",
   "name": "python",
   "nbconvert_exporter": "python",
   "pygments_lexer": "ipython3",
   "version": "3.9.6"
  },
  "orig_nbformat": 4
 },
 "nbformat": 4,
 "nbformat_minor": 2
}
